{
 "cells": [
  {
   "cell_type": "code",
   "execution_count": 1,
   "metadata": {},
   "outputs": [],
   "source": [
    "import sys\n",
    "import json\n",
    "import pprint\n",
    "import os\n",
    "\n",
    "module_dir = os.path.join(os.path.abspath(''), '..')\n",
    "\n",
    "if module_dir not in sys.path:\n",
    "    sys.path.append(module_dir)"
   ]
  },
  {
   "cell_type": "markdown",
   "metadata": {},
   "source": [
    "# Quickstart\n",
    "Searches are performed through the `datasources.Manifest` object which acts as a manager for executing searches.  Datasource drivers are loaded into the library via a simple CLI.  Once loaded, the manifest contains a `dict` with each loaded datasource."
   ]
  },
  {
   "cell_type": "code",
   "execution_count": 2,
   "metadata": {},
   "outputs": [
    {
     "name": "stdout",
     "output_type": "stream",
     "text": [
      "WARNING: Sentinel2 was not loaded because it failed CI\n"
     ]
    }
   ],
   "source": [
    "%%bash\n",
    "\n",
    "cognition-datasources load -d Landsat8 -d Sentinel2"
   ]
  },
  {
   "cell_type": "code",
   "execution_count": 2,
   "metadata": {},
   "outputs": [],
   "source": [
    "from datasources import Manifest"
   ]
  },
  {
   "cell_type": "code",
   "execution_count": 4,
   "metadata": {},
   "outputs": [
    {
     "name": "stdout",
     "output_type": "stream",
     "text": [
      "{'Landsat8': <datasources.sources.Landsat8.Landsat8 object at 0x7fc2d07c3198>}\n"
     ]
    }
   ],
   "source": [
    "manifest = Manifest()\n",
    "\n",
    "print(manifest)"
   ]
  },
  {
   "cell_type": "markdown",
   "metadata": {},
   "source": [
    "Each driver contains a `search` method with the pattern:"
   ]
  },
  {
   "cell_type": "code",
   "execution_count": 5,
   "metadata": {},
   "outputs": [],
   "source": [
    "def search(spatial, temporal=None, properties=None, limit=10, *kwargs):\n",
    "    pass"
   ]
  },
  {
   "cell_type": "markdown",
   "metadata": {},
   "source": [
    "The input parameters are reflective of the STAC spec.  Spatial and temporal are standardized across all datasources while properties allows the user to query the datasource with any available STAC property (see the docs).  Please note that spatial is always required.\n",
    "\n",
    "## Spatio-Temporal Query"
   ]
  },
  {
   "cell_type": "code",
   "execution_count": 8,
   "metadata": {},
   "outputs": [],
   "source": [
    "# Query arguments\n",
    "spatial = {\"type\": \"Polygon\",\n",
    "            \"coordinates\": [\n",
    "              [\n",
    "                [\n",
    "                  -101.28433227539062,\n",
    "                  46.813218976041945\n",
    "                ],\n",
    "                [\n",
    "                  -100.89431762695312,\n",
    "                  46.813218976041945\n",
    "                ],\n",
    "                [\n",
    "                  -100.89431762695312,\n",
    "                  47.06450941441436\n",
    "                ],\n",
    "                [\n",
    "                  -101.28433227539062,\n",
    "                  47.06450941441436\n",
    "                ],\n",
    "                [\n",
    "                  -101.28433227539062,\n",
    "                  46.813218976041945\n",
    "                ]\n",
    "              ]\n",
    "            ]\n",
    "          }\n",
    "\n",
    "temporal = (\"2017-01-01\", \"2017-12-21\")\n",
    "\n",
    "# Perform the search\n",
    "manifest['Landsat8'].search(spatial, temporal=temporal)"
   ]
  },
  {
   "cell_type": "markdown",
   "metadata": {},
   "source": [
    "Creating a search appends the search parameters to the `manifest.searches` attribute.  The `manifest.execute` method will execute all searches within `manifest.searches` in parallel.  The response is a `dict` of GeoJSON Feature Collections where each feature is a STAC Item representing one returned asset"
   ]
  },
  {
   "cell_type": "code",
   "execution_count": 10,
   "metadata": {},
   "outputs": [
    {
     "name": "stdout",
     "output_type": "stream",
     "text": [
      "Number of returned assets: 10\n"
     ]
    }
   ],
   "source": [
    "response = manifest.execute()\n",
    "\n",
    "print(\"Number of returned assets: {}\".format(len(response['Landsat8']['features'])))"
   ]
  },
  {
   "cell_type": "markdown",
   "metadata": {},
   "source": [
    "Looking at an individual STAC Item from the return:"
   ]
  },
  {
   "cell_type": "code",
   "execution_count": 14,
   "metadata": {},
   "outputs": [
    {
     "name": "stdout",
     "output_type": "stream",
     "text": [
      "{\n",
      "  \"type\": \"Feature\",\n",
      "  \"id\": \"LC80320282017353LGN00\",\n",
      "  \"bbox\": [\n",
      "    -102.35362,\n",
      "    44.90897,\n",
      "    -99.21552,\n",
      "    47.12249\n",
      "  ],\n",
      "  \"geometry\": {\n",
      "    \"type\": \"Polygon\",\n",
      "    \"coordinates\": [\n",
      "      [\n",
      "        [\n",
      "          -101.6514535740085,\n",
      "          47.12111867433461\n",
      "        ],\n",
      "        [\n",
      "          -99.21640103633251,\n",
      "          46.64713859617467\n",
      "        ],\n",
      "        [\n",
      "          -99.92016479682236,\n",
      "          44.91048259046667\n",
      "        ],\n",
      "        [\n",
      "          -102.35198559503642,\n",
      "          45.39215680874659\n",
      "        ],\n",
      "        [\n",
      "          -101.6514535740085,\n",
      "          47.12111867433461\n",
      "        ]\n",
      "      ]\n",
      "    ]\n",
      "  },\n",
      "  \"properties\": {\n",
      "    \"collection\": \"landsat-8-l1\",\n",
      "    \"datetime\": \"2017-12-19T17:29:43.300913+00:00\",\n",
      "    \"eo:sun_azimuth\": 162.91888311,\n",
      "    \"eo:sun_elevation\": 18.72441598,\n",
      "    \"eo:cloud_cover\": 87,\n",
      "    \"eo:row\": \"028\",\n",
      "    \"eo:column\": \"032\",\n",
      "    \"landsat:product_id\": \"LC08_L1TP_032028_20171219_20171224_01_T1\",\n",
      "    \"landsat:scene_id\": \"LC80320282017353LGN00\",\n",
      "    \"landsat:processing_level\": \"L1TP\",\n",
      "    \"landsat:tier\": \"T1\",\n",
      "    \"eo:epsg\": 32614,\n",
      "    \"eo:instrument\": \"OLI_TIRS\",\n",
      "    \"eo:off_nadir\": 0,\n",
      "    \"eo:platform\": \"landsat-8\",\n",
      "    \"eo:bands\": [\n",
      "      {\n",
      "        \"full_width_half_max\": 0.02,\n",
      "        \"center_wavelength\": 0.44,\n",
      "        \"name\": \"B1\",\n",
      "        \"gsd\": 30,\n",
      "        \"common_name\": \"coastal\"\n",
      "      },\n",
      "      {\n",
      "        \"full_width_half_max\": 0.06,\n",
      "        \"center_wavelength\": 0.48,\n",
      "        \"name\": \"B2\",\n",
      "        \"gsd\": 30,\n",
      "        \"common_name\": \"blue\"\n",
      "      },\n",
      "      {\n",
      "        \"full_width_half_max\": 0.06,\n",
      "        \"center_wavelength\": 0.56,\n",
      "        \"name\": \"B3\",\n",
      "        \"gsd\": 30,\n",
      "        \"common_name\": \"green\"\n",
      "      },\n",
      "      {\n",
      "        \"full_width_half_max\": 0.04,\n",
      "        \"center_wavelength\": 0.65,\n",
      "        \"name\": \"B4\",\n",
      "        \"gsd\": 30,\n",
      "        \"common_name\": \"red\"\n",
      "      },\n",
      "      {\n",
      "        \"full_width_half_max\": 0.03,\n",
      "        \"center_wavelength\": 0.86,\n",
      "        \"name\": \"B5\",\n",
      "        \"gsd\": 30,\n",
      "        \"common_name\": \"nir\"\n",
      "      },\n",
      "      {\n",
      "        \"full_width_half_max\": 0.08,\n",
      "        \"center_wavelength\": 1.6,\n",
      "        \"name\": \"B6\",\n",
      "        \"gsd\": 30,\n",
      "        \"common_name\": \"swir16\"\n",
      "      },\n",
      "      {\n",
      "        \"full_width_half_max\": 0.2,\n",
      "        \"center_wavelength\": 2.2,\n",
      "        \"name\": \"B7\",\n",
      "        \"gsd\": 30,\n",
      "        \"common_name\": \"swir22\"\n",
      "      },\n",
      "      {\n",
      "        \"full_width_half_max\": 0.18,\n",
      "        \"center_wavelength\": 0.59,\n",
      "        \"name\": \"B8\",\n",
      "        \"gsd\": 15,\n",
      "        \"common_name\": \"pan\"\n",
      "      },\n",
      "      {\n",
      "        \"full_width_half_max\": 0.02,\n",
      "        \"center_wavelength\": 1.37,\n",
      "        \"name\": \"B9\",\n",
      "        \"gsd\": 30,\n",
      "        \"common_name\": \"cirrus\"\n",
      "      },\n",
      "      {\n",
      "        \"full_width_half_max\": 0.8,\n",
      "        \"center_wavelength\": 10.9,\n",
      "        \"name\": \"B10\",\n",
      "        \"gsd\": 100,\n",
      "        \"common_name\": \"lwir11\"\n",
      "      },\n",
      "      {\n",
      "        \"full_width_half_max\": 1,\n",
      "        \"center_wavelength\": 12,\n",
      "        \"name\": \"B11\",\n",
      "        \"gsd\": 100,\n",
      "        \"common_name\": \"lwir12\"\n",
      "      }\n",
      "    ],\n",
      "    \"eo:gsd\": 15\n",
      "  },\n",
      "  \"assets\": {\n",
      "    \"index\": {\n",
      "      \"type\": \"text/html\",\n",
      "      \"title\": \"HTML index page\",\n",
      "      \"href\": \"https://s3-us-west-2.amazonaws.com/landsat-pds/c1/L8/032/028/LC08_L1TP_032028_20171219_20171224_01_T1/index.html\"\n",
      "    },\n",
      "    \"thumbnail\": {\n",
      "      \"title\": \"Thumbnail image\",\n",
      "      \"type\": \"image/jpeg\",\n",
      "      \"href\": \"https://s3-us-west-2.amazonaws.com/landsat-pds/c1/L8/032/028/LC08_L1TP_032028_20171219_20171224_01_T1/LC08_L1TP_032028_20171219_20171224_01_T1_thumb_large.jpg\"\n",
      "    },\n",
      "    \"B1\": {\n",
      "      \"type\": \"image/x.geotiff\",\n",
      "      \"eo:bands\": [\n",
      "        0\n",
      "      ],\n",
      "      \"title\": \"Band 1 (coastal)\",\n",
      "      \"href\": \"https://s3-us-west-2.amazonaws.com/landsat-pds/c1/L8/032/028/LC08_L1TP_032028_20171219_20171224_01_T1/LC08_L1TP_032028_20171219_20171224_01_T1_B1.TIF\"\n",
      "    },\n",
      "    \"B2\": {\n",
      "      \"type\": \"image/x.geotiff\",\n",
      "      \"eo:bands\": [\n",
      "        1\n",
      "      ],\n",
      "      \"title\": \"Band 2 (blue)\",\n",
      "      \"href\": \"https://s3-us-west-2.amazonaws.com/landsat-pds/c1/L8/032/028/LC08_L1TP_032028_20171219_20171224_01_T1/LC08_L1TP_032028_20171219_20171224_01_T1_B2.TIF\"\n",
      "    },\n",
      "    \"B3\": {\n",
      "      \"type\": \"image/x.geotiff\",\n",
      "      \"eo:bands\": [\n",
      "        2\n",
      "      ],\n",
      "      \"title\": \"Band 3 (green)\",\n",
      "      \"href\": \"https://s3-us-west-2.amazonaws.com/landsat-pds/c1/L8/032/028/LC08_L1TP_032028_20171219_20171224_01_T1/LC08_L1TP_032028_20171219_20171224_01_T1_B3.TIF\"\n",
      "    },\n",
      "    \"B4\": {\n",
      "      \"type\": \"image/x.geotiff\",\n",
      "      \"eo:bands\": [\n",
      "        3\n",
      "      ],\n",
      "      \"title\": \"Band 4 (red)\",\n",
      "      \"href\": \"https://s3-us-west-2.amazonaws.com/landsat-pds/c1/L8/032/028/LC08_L1TP_032028_20171219_20171224_01_T1/LC08_L1TP_032028_20171219_20171224_01_T1_B4.TIF\"\n",
      "    },\n",
      "    \"B5\": {\n",
      "      \"type\": \"image/x.geotiff\",\n",
      "      \"eo:bands\": [\n",
      "        4\n",
      "      ],\n",
      "      \"title\": \"Band 5 (nir)\",\n",
      "      \"href\": \"https://s3-us-west-2.amazonaws.com/landsat-pds/c1/L8/032/028/LC08_L1TP_032028_20171219_20171224_01_T1/LC08_L1TP_032028_20171219_20171224_01_T1_B5.TIF\"\n",
      "    },\n",
      "    \"B6\": {\n",
      "      \"type\": \"image/x.geotiff\",\n",
      "      \"eo:bands\": [\n",
      "        5\n",
      "      ],\n",
      "      \"title\": \"Band 6 (swir16)\",\n",
      "      \"href\": \"https://s3-us-west-2.amazonaws.com/landsat-pds/c1/L8/032/028/LC08_L1TP_032028_20171219_20171224_01_T1/LC08_L1TP_032028_20171219_20171224_01_T1_B6.TIF\"\n",
      "    },\n",
      "    \"B7\": {\n",
      "      \"type\": \"image/x.geotiff\",\n",
      "      \"eo:bands\": [\n",
      "        6\n",
      "      ],\n",
      "      \"title\": \"Band 7 (swir22)\",\n",
      "      \"href\": \"https://s3-us-west-2.amazonaws.com/landsat-pds/c1/L8/032/028/LC08_L1TP_032028_20171219_20171224_01_T1/LC08_L1TP_032028_20171219_20171224_01_T1_B7.TIF\"\n",
      "    },\n",
      "    \"B8\": {\n",
      "      \"type\": \"image/x.geotiff\",\n",
      "      \"eo:bands\": [\n",
      "        7\n",
      "      ],\n",
      "      \"title\": \"Band 8 (pan)\",\n",
      "      \"href\": \"https://s3-us-west-2.amazonaws.com/landsat-pds/c1/L8/032/028/LC08_L1TP_032028_20171219_20171224_01_T1/LC08_L1TP_032028_20171219_20171224_01_T1_B8.TIF\"\n",
      "    },\n",
      "    \"B9\": {\n",
      "      \"type\": \"image/x.geotiff\",\n",
      "      \"eo:bands\": [\n",
      "        8\n",
      "      ],\n",
      "      \"title\": \"Band 9 (cirrus)\",\n",
      "      \"href\": \"https://s3-us-west-2.amazonaws.com/landsat-pds/c1/L8/032/028/LC08_L1TP_032028_20171219_20171224_01_T1/LC08_L1TP_032028_20171219_20171224_01_T1_B9.TIF\"\n",
      "    },\n",
      "    \"B10\": {\n",
      "      \"type\": \"image/x.geotiff\",\n",
      "      \"eo:bands\": [\n",
      "        9\n",
      "      ],\n",
      "      \"title\": \"Band 10 (lwir)\",\n",
      "      \"href\": \"https://s3-us-west-2.amazonaws.com/landsat-pds/c1/L8/032/028/LC08_L1TP_032028_20171219_20171224_01_T1/LC08_L1TP_032028_20171219_20171224_01_T1_B10.TIF\"\n",
      "    },\n",
      "    \"B11\": {\n",
      "      \"type\": \"image/x.geotiff\",\n",
      "      \"eo:bands\": [\n",
      "        10\n",
      "      ],\n",
      "      \"title\": \"Band 11 (lwir)\",\n",
      "      \"href\": \"https://s3-us-west-2.amazonaws.com/landsat-pds/c1/L8/032/028/LC08_L1TP_032028_20171219_20171224_01_T1/LC08_L1TP_032028_20171219_20171224_01_T1_B11.TIF\"\n",
      "    },\n",
      "    \"ANG\": {\n",
      "      \"title\": \"Angle coefficients file\",\n",
      "      \"type\": \"text/plain\",\n",
      "      \"href\": \"https://s3-us-west-2.amazonaws.com/landsat-pds/c1/L8/032/028/LC08_L1TP_032028_20171219_20171224_01_T1/LC08_L1TP_032028_20171219_20171224_01_T1_ANG.txt\"\n",
      "    },\n",
      "    \"MTL\": {\n",
      "      \"title\": \"original metadata file\",\n",
      "      \"type\": \"text/plain\",\n",
      "      \"href\": \"https://s3-us-west-2.amazonaws.com/landsat-pds/c1/L8/032/028/LC08_L1TP_032028_20171219_20171224_01_T1/LC08_L1TP_032028_20171219_20171224_01_T1_MTL.txt\"\n",
      "    },\n",
      "    \"BQA\": {\n",
      "      \"title\": \"Band quality data\",\n",
      "      \"type\": \"image/x.geotiff\",\n",
      "      \"href\": \"https://s3-us-west-2.amazonaws.com/landsat-pds/c1/L8/032/028/LC08_L1TP_032028_20171219_20171224_01_T1/LC08_L1TP_032028_20171219_20171224_01_T1_BQA.TIF\"\n",
      "    }\n",
      "  },\n",
      "  \"links\": [\n",
      "    {\n",
      "      \"rel\": \"self\",\n",
      "      \"href\": \"https://sat-api-dev.developmentseed.org/collections/landsat-8-l1/items/LC80320282017353LGN00\"\n",
      "    },\n",
      "    {\n",
      "      \"rel\": \"parent\",\n",
      "      \"href\": \"https://sat-api-dev.developmentseed.org/collections/landsat-8-l1\"\n",
      "    },\n",
      "    {\n",
      "      \"rel\": \"collection\",\n",
      "      \"href\": \"https://sat-api-dev.developmentseed.org/collections/landsat-8-l1\"\n",
      "    },\n",
      "    {\n",
      "      \"rel\": \"root\",\n",
      "      \"href\": \"https://sat-api-dev.developmentseed.org/stac\"\n",
      "    }\n",
      "  ]\n",
      "}\n"
     ]
    }
   ],
   "source": [
    "stac_item = response['Landsat8']['features'][0]\n",
    "print(json.dumps(stac_item, indent=2))"
   ]
  },
  {
   "cell_type": "markdown",
   "metadata": {},
   "source": [
    "## Searching with STAC Properties\n",
    "As mentioned earlier, STAC allows for querying against any STAC properties exposed by the dataset.  Let's look at the STAC properties of the above Landsat 8 asset:"
   ]
  },
  {
   "cell_type": "code",
   "execution_count": 15,
   "metadata": {},
   "outputs": [
    {
     "name": "stdout",
     "output_type": "stream",
     "text": [
      "STAC properties: ['collection', 'datetime', 'eo:sun_azimuth', 'eo:sun_elevation', 'eo:cloud_cover', 'eo:row', 'eo:column', 'landsat:product_id', 'landsat:scene_id', 'landsat:processing_level', 'landsat:tier', 'eo:epsg', 'eo:instrument', 'eo:off_nadir', 'eo:platform', 'eo:bands', 'eo:gsd']\n"
     ]
    }
   ],
   "source": [
    "print(\"STAC properties: {}\".format(list(stac_item['properties'])))"
   ]
  },
  {
   "cell_type": "markdown",
   "metadata": {},
   "source": [
    "Let's try finding all assets with less than 5% cloud cover using the **eo:cloud_cover** property."
   ]
  },
  {
   "cell_type": "code",
   "execution_count": 18,
   "metadata": {},
   "outputs": [],
   "source": [
    "# Create the search\n",
    "manifest['Landsat8'].search(spatial, temporal=temporal, properties={'eo:cloud_cover': {'lt': 5}})\n",
    "\n",
    "# Execute the search\n",
    "response = manifest.execute()\n",
    "\n",
    "# Verify the results\n",
    "for feat in response['Landsat8']['features']:\n",
    "    assert feat['properties']['eo:cloud_cover'] < 5"
   ]
  },
  {
   "cell_type": "markdown",
   "metadata": {},
   "source": [
    "## Searching Multiple Sources\n",
    "You can search multiple datasources at the same time in a similar fashion.  Please note that only the **spatial** and **temporal** parameters are standardized across all datasources.  The **properties** parameter varies between datasources as different datasources expose different metadata."
   ]
  },
  {
   "cell_type": "code",
   "execution_count": 23,
   "metadata": {},
   "outputs": [
    {
     "name": "stdout",
     "output_type": "stream",
     "text": [
      "Number of searches: 48\n"
     ]
    }
   ],
   "source": [
    "# Create a search for each source\n",
    "for source in list(manifest):\n",
    "    manifest[source].search(spatial, temporal=temporal)\n",
    "\n",
    "print(\"Number of searches: {}\".format(len(manifest.searches)))"
   ]
  },
  {
   "cell_type": "code",
   "execution_count": 25,
   "metadata": {},
   "outputs": [
    {
     "name": "stdout",
     "output_type": "stream",
     "text": [
      "Found 10 assets for Landsat8\n",
      "Found 35 assets for NAIP\n",
      "Found 10 assets for Sentinel1\n",
      "Found 20 assets for Sentinel2\n",
      "Found 1 assets for SRTM\n",
      "Found 0 assets for CBERS\n",
      "Found 4 assets for ElevationTiles\n"
     ]
    }
   ],
   "source": [
    "# Execute the search\n",
    "response = manifest.execute()\n",
    "for source in list(response):\n",
    "    print(\"Found {} assets for {}\".format(len(response[source]['features']), source))"
   ]
  },
  {
   "cell_type": "markdown",
   "metadata": {},
   "source": [
    "## Collections\n",
    "Collections group available datasources into select groups for convenient querying across similar data sources.  Let's take a closer look at the EO (electro-optical) collection, which contains all datasources with R/G/B/NIR bands.  "
   ]
  },
  {
   "cell_type": "code",
   "execution_count": 6,
   "metadata": {},
   "outputs": [],
   "source": [
    "from datasources.sources import collections"
   ]
  },
  {
   "cell_type": "code",
   "execution_count": 7,
   "metadata": {},
   "outputs": [
    {
     "name": "stdout",
     "output_type": "stream",
     "text": [
      "EO collection: ['Landsat8']\n"
     ]
    }
   ],
   "source": [
    "print(\"EO collection: {}\".format([x.__name__ for x in collections.eo]))"
   ]
  },
  {
   "cell_type": "code",
   "execution_count": 10,
   "metadata": {},
   "outputs": [
    {
     "name": "stdout",
     "output_type": "stream",
     "text": [
      "{'Landsat8': <datasources.sources.Landsat8.Landsat8 object at 0x7fc2d17997b8>}\n"
     ]
    }
   ],
   "source": [
    "# Load manifest with datasources according to tag:\n",
    "manifest = Manifest(tags=['eo'])\n",
    "pprint.pprint(manifest)"
   ]
  }
 ],
 "metadata": {
  "kernelspec": {
   "display_name": "Python 2",
   "language": "python",
   "name": "python2"
  },
  "language_info": {
   "codemirror_mode": {
    "name": "ipython",
    "version": 3
   },
   "file_extension": ".py",
   "mimetype": "text/x-python",
   "name": "python",
   "nbconvert_exporter": "python",
   "pygments_lexer": "ipython3",
   "version": "3.7.2"
  }
 },
 "nbformat": 4,
 "nbformat_minor": 2
}
